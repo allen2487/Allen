{
  "nbformat": 4,
  "nbformat_minor": 0,
  "metadata": {
    "colab": {
      "provenance": [],
      "authorship_tag": "ABX9TyMk3MfeFdK8UPYF+X0C6xJW",
      "include_colab_link": true
    },
    "kernelspec": {
      "name": "python3",
      "display_name": "Python 3"
    },
    "language_info": {
      "name": "python"
    }
  },
  "cells": [
    {
      "cell_type": "markdown",
      "metadata": {
        "id": "view-in-github",
        "colab_type": "text"
      },
      "source": [
        "<a href=\"https://colab.research.google.com/github/allen2487/Allen/blob/main/0501.ipynb\" target=\"_parent\"><img src=\"https://colab.research.google.com/assets/colab-badge.svg\" alt=\"Open In Colab\"/></a>"
      ]
    },
    {
      "cell_type": "code",
      "execution_count": 1,
      "metadata": {
        "colab": {
          "base_uri": "https://localhost:8080/"
        },
        "id": "zYAPsD_dhbIQ",
        "outputId": "088ce243-54cf-4a92-e8ca-54085b5c65f6"
      },
      "outputs": [
        {
          "output_type": "stream",
          "name": "stdout",
          "text": [
            "Hello world\n"
          ]
        }
      ],
      "source": [
        "print(\"Hello world\")"
      ]
    },
    {
      "cell_type": "code",
      "source": [
        "F=100\n",
        "C=(F-32)*5/9\n",
        "print(\"%.1f\"%C)"
      ],
      "metadata": {
        "colab": {
          "base_uri": "https://localhost:8080/"
        },
        "id": "LKjilmk3hlGI",
        "outputId": "aa2c3c0c-8214-44b6-be23-b0e553020aa5"
      },
      "execution_count": 2,
      "outputs": [
        {
          "output_type": "stream",
          "name": "stdout",
          "text": [
            "37.8\n"
          ]
        }
      ]
    },
    {
      "cell_type": "code",
      "source": [
        "n = 5\n",
        "total = 0\n",
        "for i in range(1, n+1):\n",
        "    total += i\n",
        "    print(i)\n",
        "\n",
        "print(\"1 到\", n, \"的整數合為：\", total)"
      ],
      "metadata": {
        "colab": {
          "base_uri": "https://localhost:8080/"
        },
        "id": "jqMg8Sr-h26W",
        "outputId": "38955834-96d4-48d6-fbbc-fee85b831e39"
      },
      "execution_count": 13,
      "outputs": [
        {
          "output_type": "stream",
          "name": "stdout",
          "text": [
            "1\n",
            "2\n",
            "3\n",
            "4\n",
            "5\n",
            "1 到 5 的整數合為： 15\n"
          ]
        }
      ]
    },
    {
      "cell_type": "code",
      "source": [
        "principal = 10000\n",
        "interest_rate = 0.02\n",
        "\n",
        "for i in range(6):\n",
        "    principal *= (1 + interest_rate)\n",
        "\n",
        "print(\"六年後的本金：\", principal)"
      ],
      "metadata": {
        "colab": {
          "base_uri": "https://localhost:8080/"
        },
        "id": "w6UtXdkIn_zG",
        "outputId": "175db9b4-5def-4703-9f47-46d3d6847e8d"
      },
      "execution_count": 6,
      "outputs": [
        {
          "output_type": "stream",
          "name": "stdout",
          "text": [
            "六年後的本金： 11261.62419264\n"
          ]
        }
      ]
    }
  ]
}