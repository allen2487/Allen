{
  "nbformat": 4,
  "nbformat_minor": 0,
  "metadata": {
    "colab": {
      "provenance": [],
      "authorship_tag": "ABX9TyNPc2IO5bD6vVUat6/VCxfe",
      "include_colab_link": true
    },
    "kernelspec": {
      "name": "python3",
      "display_name": "Python 3"
    },
    "language_info": {
      "name": "python"
    }
  },
  "cells": [
    {
      "cell_type": "markdown",
      "metadata": {
        "id": "view-in-github",
        "colab_type": "text"
      },
      "source": [
        "<a href=\"https://colab.research.google.com/github/allen2487/Allen/blob/main/0410.ipynb\" target=\"_parent\"><img src=\"https://colab.research.google.com/assets/colab-badge.svg\" alt=\"Open In Colab\"/></a>"
      ]
    },
    {
      "cell_type": "code",
      "execution_count": 13,
      "metadata": {
        "colab": {
          "base_uri": "https://localhost:8080/"
        },
        "id": "CMjxnLy9zvlR",
        "outputId": "416ad732-64b8-476a-f495-0228c636d57f"
      },
      "outputs": [
        {
          "output_type": "stream",
          "name": "stdout",
          "text": [
            "請輸入你的身高(cm)：173\n",
            "請輸入你的體重(kg)：65\n",
            "身高：173.0公分，體重：65.0公斤，BMI值為：21.718066089745733\n"
          ]
        }
      ],
      "source": [
        "height = float(input(\"請輸入你的身高(cm)：\"))\n",
        "weight = float(input(\"請輸入你的體重(kg)：\"))\n",
        "\n",
        "bmi = (weight * 10000) / (height ** 2)\n",
        "\n",
        "print(\"身高：{}公分，體重：{}公斤，BMI值為：{}\".format(height, weight, bmi))"
      ]
    }
  ]
}