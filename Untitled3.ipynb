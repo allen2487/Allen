{
  "nbformat": 4,
  "nbformat_minor": 0,
  "metadata": {
    "colab": {
      "provenance": [],
      "authorship_tag": "ABX9TyOhL7YQJQYN5bwwQoldIWjL",
      "include_colab_link": true
    },
    "kernelspec": {
      "name": "python3",
      "display_name": "Python 3"
    },
    "language_info": {
      "name": "python"
    }
  },
  "cells": [
    {
      "cell_type": "markdown",
      "metadata": {
        "id": "view-in-github",
        "colab_type": "text"
      },
      "source": [
        "<a href=\"https://colab.research.google.com/github/allen2487/Allen/blob/main/Untitled3.ipynb\" target=\"_parent\"><img src=\"https://colab.research.google.com/assets/colab-badge.svg\" alt=\"Open In Colab\"/></a>"
      ]
    },
    {
      "cell_type": "code",
      "execution_count": null,
      "metadata": {
        "id": "mCBFwXwkKxxN"
      },
      "outputs": [],
      "source": [
        "def validate_input(input_str):\n",
        "    for char in input_str:\n",
        "        if char != 'Y' and char != 'X':\n",
        "            return False\n",
        "    return True\n",
        "\n",
        "user_input = input(\"請輸入大寫Y或X: \")\n",
        "\n",
        "if validate_input(user_input):\n",
        "    print(\"輸入正確\")\n",
        "else:\n",
        "    print(\"請重新輸入\")"
      ]
    },
    {
      "cell_type": "code",
      "source": [
        "def check_temperature(temperature):\n",
        "    if temperature >= 37.5:\n",
        "        return \"體溫過高!\"\n",
        "    elif 37.4 <= temperature <= 37:\n",
        "        return \"體溫略高!\"\n",
        "    elif 34 <= temperature <= 36.9:\n",
        "        return \"體溫略高!\"\n",
        "    elif temperature < 34:\n",
        "        return \"體溫異常，請重新量測\"\n",
        "\n",
        "user_temperature = float(input(\"請輸入您的體溫: \"))\n",
        "\n",
        "result = check_temperature(user_temperature)\n",
        "print(\"您的體溫狀態為:\", result)"
      ],
      "metadata": {
        "id": "Ox_4d8z0OGpR"
      },
      "execution_count": null,
      "outputs": []
    },
    {
      "cell_type": "code",
      "source": [
        "score = int(input(\"請輸入成績: \"))\n",
        "if score >= 90:\n",
        "    print('A')\n",
        "elif score >= 80:\n",
        "    print('B')\n",
        "elif score >= 70:\n",
        "    print('C')\n",
        "elif score >= 60:\n",
        "    print('D')\n",
        "else:\n",
        "    print('F')"
      ],
      "metadata": {
        "colab": {
          "base_uri": "https://localhost:8080/"
        },
        "id": "lhIFSyE4PkxR",
        "outputId": "d5589890-e254-445e-813a-c7bfe2591bb3"
      },
      "execution_count": 9,
      "outputs": [
        {
          "output_type": "stream",
          "name": "stdout",
          "text": [
            "請輸入成績: 90\n",
            "A\n"
          ]
        }
      ]
    },
    {
      "cell_type": "code",
      "source": [
        "def get_season(month):\n",
        "    if month in [3, 4, 5]:\n",
        "        return \"春天\"\n",
        "    elif month in [6, 7, 8]:\n",
        "        return \"夏天\"\n",
        "    elif month in [9, 10, 11]:\n",
        "        return \"秋天\"\n",
        "    elif month in [12, 1, 2]:\n",
        "        return \"冬天!\"\n",
        "    else:\n",
        "        return \"月份不再範圍內!\"\n",
        "\n",
        "user_month = int(input(\"請輸入月份（1-12）：\"))\n",
        "\n",
        "result = get_season(user_month)\n",
        "print(\"對應的季節是：\", result)"
      ],
      "metadata": {
        "id": "ZBF0kV1dQr-6"
      },
      "execution_count": null,
      "outputs": []
    }
  ]
}