{
  "nbformat": 4,
  "nbformat_minor": 0,
  "metadata": {
    "colab": {
      "provenance": [],
      "authorship_tag": "ABX9TyPuF5oSeq9Zy8xehw1FcRUf",
      "include_colab_link": true
    },
    "kernelspec": {
      "name": "python3",
      "display_name": "Python 3"
    },
    "language_info": {
      "name": "python"
    }
  },
  "cells": [
    {
      "cell_type": "markdown",
      "metadata": {
        "id": "view-in-github",
        "colab_type": "text"
      },
      "source": [
        "<a href=\"https://colab.research.google.com/github/allen2487/Allen/blob/main/0327.ipynb\" target=\"_parent\"><img src=\"https://colab.research.google.com/assets/colab-badge.svg\" alt=\"Open In Colab\"/></a>"
      ]
    },
    {
      "cell_type": "code",
      "execution_count": 12,
      "metadata": {
        "colab": {
          "base_uri": "https://localhost:8080/"
        },
        "id": "XByt00z_tTa9",
        "outputId": "27ea094c-388c-4779-d16b-a8a806c00631"
      },
      "outputs": [
        {
          "output_type": "stream",
          "name": "stdout",
          "text": [
            "請輸入梯形上底長度：3\n",
            "請輸入梯形下底長度：4\n",
            "請輸入梯形的高度：3\n",
            "上底長度為： 3 下底長度為： 4 高度為： 3 梯形的面積為： 10.5\n"
          ]
        }
      ],
      "source": [
        "upper_base = int(input(\"請輸入梯形上底長度：\"))\n",
        "lower_base = int(input(\"請輸入梯形下底長度：\"))\n",
        "height = int(input(\"請輸入梯形的高度：\"))\n",
        "\n",
        "area = (upper_base + lower_base) * height / 2\n",
        "\n",
        "print(\"上底長度為：\", upper_base,\"下底長度為：\", lower_base,\"高度為：\", height,\"梯形的面積為：\", area)\n"
      ]
    }
  ]
}